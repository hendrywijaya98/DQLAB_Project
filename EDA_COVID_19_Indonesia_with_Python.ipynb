{
  "nbformat": 4,
  "nbformat_minor": 0,
  "metadata": {
    "colab": {
      "name": "EDA COVID-19 Indonesia with Python.ipynb",
      "provenance": [],
      "collapsed_sections": []
    },
    "kernelspec": {
      "name": "python3",
      "display_name": "Python 3"
    },
    "language_info": {
      "name": "python"
    }
  },
  "cells": [
    {
      "cell_type": "markdown",
      "metadata": {
        "id": "hyYVJ_jCMcLo"
      },
      "source": [
        "# Latar Belakang Project\n",
        "mengumpulkan dan menyediakan data pertumbuhan kasus COVID-19 kepada publik yang tidak jarang juga dilengkapi dengan dasbor dan grafik visualisasi pendukung agar informasi dipahami masyarakat dengan lebih mudah\n",
        "\n",
        "buatlah sebuah vektor karakter dengan 3 elemen dengan nama bersatulawancovid, berisi kunci dasar menghindari COVID-19"
      ]
    },
    {
      "cell_type": "code",
      "metadata": {
        "colab": {
          "base_uri": "https://localhost:8080/"
        },
        "id": "outLjdr5LPbt",
        "outputId": "7a8f345d-0fe7-44aa-fc78-a9a6b41a745d"
      },
      "source": [
        "bersatulawancovid = ['cuci tangan', 'pakai masker', 'jaga jarak']\n",
        "print(bersatulawancovid)"
      ],
      "execution_count": 1,
      "outputs": [
        {
          "output_type": "stream",
          "text": [
            "['cuci tangan', 'pakai masker', 'jaga jarak']\n"
          ],
          "name": "stdout"
        }
      ]
    },
    {
      "cell_type": "markdown",
      "metadata": {
        "id": "o2hl9pJ2NMnw"
      },
      "source": [
        "# Bermain API"
      ]
    },
    {
      "cell_type": "markdown",
      "metadata": {
        "id": "eiip14dPNU1w"
      },
      "source": [
        "## Mengakses API covid19.go.id\n",
        "menggunakan fungsi get() dari library requests"
      ]
    },
    {
      "cell_type": "code",
      "metadata": {
        "id": "VrhyEF4VNY1m"
      },
      "source": [
        "import requests\n",
        "resp = requests.get('https://data.covid19.go.id/public/api/update.json')"
      ],
      "execution_count": 2,
      "outputs": []
    },
    {
      "cell_type": "markdown",
      "metadata": {
        "id": "ecFZXw8uNmPZ"
      },
      "source": [
        "## Mengevaluasi Respon\n",
        "saat menjalankan fungsi get(), yang terjadi adalah membuat sebuah permintaan kepada server penyedia API hingga diproses dan dijawab oleh server sebagai sebuah respon\n",
        "\n",
        "informasi utama dalam sebuah respon API, yaitu \n",
        "- status, informasi gagal berhasilnya permintaan yang dinyatakan dalam status code\n",
        "- headers, mengandung informasi metadata\n",
        "- body, berisikan konten atas permintaan yang telah dibuat"
      ]
    },
    {
      "cell_type": "markdown",
      "metadata": {
        "id": "y6WbKz7dOjIs"
      },
      "source": [
        "## Status Code\n",
        "- 200, Artinya permintaan sukses dipenuhi.\n",
        "- 404, Artinya berkas yang diminta tidak dapat ditemukan.\n",
        "- 500, Artinya akses permintaan ditolak.\n",
        "- 501, Artinya terjadi kesalahan pada server."
      ]
    },
    {
      "cell_type": "code",
      "metadata": {
        "colab": {
          "base_uri": "https://localhost:8080/"
        },
        "id": "VSxm3W0QOgNr",
        "outputId": "15d0c487-2b12-4bfd-a51a-38196205ba27"
      },
      "source": [
        "# mencetak resp secara langsung untuk memberikan output status atas permintaan melalui API\n",
        "print(resp)"
      ],
      "execution_count": 3,
      "outputs": [
        {
          "output_type": "stream",
          "text": [
            "<Response [200]>\n"
          ],
          "name": "stdout"
        }
      ]
    },
    {
      "cell_type": "markdown",
      "metadata": {
        "id": "L3kJMVACO27o"
      },
      "source": [
        "## Headers API\n",
        "mengetahui metadata apa saja yang tersimpan untuk mengetahui content-type dan terakhir kali informasi diperbaharui"
      ]
    },
    {
      "cell_type": "code",
      "metadata": {
        "colab": {
          "base_uri": "https://localhost:8080/"
        },
        "id": "Z2C8NN_mO7jw",
        "outputId": "4315630e-b0c1-4358-e89f-a34a9d6412b0"
      },
      "source": [
        "print(resp.headers)"
      ],
      "execution_count": 4,
      "outputs": [
        {
          "output_type": "stream",
          "text": [
            "{'Server': 'nginx', 'Date': 'Tue, 23 Mar 2021 13:11:16 GMT', 'Content-Type': 'application/json', 'Transfer-Encoding': 'chunked', 'Connection': 'keep-alive', 'Vary': 'Accept-Encoding, Accept-Encoding', 'Last-Modified': 'Tue, 23 Mar 2021 13:06:27 GMT', 'ETag': 'W/\"6059e7d3-245ba\"', 'X-Content-Type-Options': 'nosniff, nosniff', 'X-XSS-Protection': '1; mode=block, 1; mode=block', 'Strict-Transport-Security': 'max-age=31536000; includeSubDomains; preload', 'Content-Encoding': 'gzip'}\n"
          ],
          "name": "stdout"
        }
      ]
    },
    {
      "cell_type": "markdown",
      "metadata": {
        "id": "U3QerfcCPEnx"
      },
      "source": [
        "## Mengekstrak Isi Respon\n",
        "mengekstrak konten tersebut dengan menggunakan method json() yang merupakan builtin JSON decoder untuk mengekstrak content bertipe JSON\n",
        "\n",
        "juga dapat menggunakan attribut content tetapi ini berupa binary content yang perlu diproses kembali nantinya"
      ]
    },
    {
      "cell_type": "code",
      "metadata": {
        "id": "sFZ5v5qHPIRY"
      },
      "source": [
        "cov_id_raw = resp.json()"
      ],
      "execution_count": 5,
      "outputs": []
    },
    {
      "cell_type": "markdown",
      "metadata": {
        "id": "oBAoPGW2PZXI"
      },
      "source": [
        "menggunakan fungsi len() dan method keys()"
      ]
    },
    {
      "cell_type": "code",
      "metadata": {
        "colab": {
          "base_uri": "https://localhost:8080/"
        },
        "id": "Nocpoiw9Pcdw",
        "outputId": "40b808b6-b700-49a6-bb5c-fccba415468c"
      },
      "source": [
        "print('Length of cov_id_raw : %d.' %len(cov_id_raw))\n",
        "print('Komponen cov_id_raw  : %s.' %cov_id_raw.keys())\n",
        "cov_id_update = cov_id_raw['update']"
      ],
      "execution_count": 6,
      "outputs": [
        {
          "output_type": "stream",
          "text": [
            "Length of cov_id_raw : 2.\n",
            "Komponen cov_id_raw  : dict_keys(['data', 'update']).\n"
          ],
          "name": "stdout"
        }
      ]
    },
    {
      "cell_type": "markdown",
      "metadata": {
        "id": "7HB-VkEnPi_U"
      },
      "source": [
        "## Analisa Data\n",
        "menjawab pertanyaan-pertanyaan berikut:\n",
        "- Kapan tanggal pembaharuan data penambahan kasus?\n",
        "- Berapa jumlah penambahan kasus sembuh?\n",
        "- Berapa jumlah penambahan kasus meninggal?\n",
        "- Berapa jumlah total kasus positif hingga saat ini?\n",
        "- Berapa jumlah total kasus meninggal hingga saat ini?"
      ]
    },
    {
      "cell_type": "code",
      "metadata": {
        "colab": {
          "base_uri": "https://localhost:8080/"
        },
        "id": "hDgJeaiiPjWw",
        "outputId": "923daa11-3553-4027-f33f-c5ffb3888d57"
      },
      "source": [
        "print('Tanggal pembaharuan data penambahan kasus   :', cov_id_update['penambahan']['tanggal'])\n",
        "print('Jumlah penambahan kasus sembuh   :', cov_id_update['penambahan']['jumlah_sembuh'])\n",
        "print('Jumlah penambahan kasus meninggal   :', cov_id_update['penambahan']['jumlah_meninggal'])\n",
        "print('Jumlah total kasus positif hingga saat ini   :', cov_id_update['total']['jumlah_positif'])\n",
        "print('Jumlah total kasus meninggal hingga saat ini   :', cov_id_update['total']['jumlah_meninggal'])"
      ],
      "execution_count": 7,
      "outputs": [
        {
          "output_type": "stream",
          "text": [
            "Tanggal pembaharuan data penambahan kasus   : 2021-03-23\n",
            "Jumlah penambahan kasus sembuh   : 6954\n",
            "Jumlah penambahan kasus meninggal   : 154\n",
            "Jumlah total kasus positif hingga saat ini   : 1471225\n",
            "Jumlah total kasus meninggal hingga saat ini   : 39865\n"
          ],
          "name": "stdout"
        }
      ]
    },
    {
      "cell_type": "markdown",
      "metadata": {
        "id": "7VgnaXJPNNsv"
      },
      "source": [
        "# COVID-19 Di Sekitar\n"
      ]
    },
    {
      "cell_type": "markdown",
      "metadata": {
        "id": "OZ0PovBjQTon"
      },
      "source": [
        "## Kasus COVID-19 di jabar\n",
        "berfokus dengan data COVID-19 di provinsi Jawa Barat"
      ]
    },
    {
      "cell_type": "code",
      "metadata": {
        "id": "YYlOwUKsQT--"
      },
      "source": [
        "import requests\n",
        "resp_jabar = requests.get('https://data.covid19.go.id/public/api/prov_detail_JAWA_BARAT.json')\n",
        "cov_jabar_raw = resp_jabar.json()"
      ],
      "execution_count": 8,
      "outputs": []
    },
    {
      "cell_type": "markdown",
      "metadata": {
        "id": "vYm4htaOXnjx"
      },
      "source": [
        "## Memahami Kasus COVID-19 di Jawa Barat\n",
        "menggunakan method keys() pada cov_jabar_raw tersebut untuk mengetahui nama-nama elemen utama "
      ]
    },
    {
      "cell_type": "code",
      "metadata": {
        "colab": {
          "base_uri": "https://localhost:8080/"
        },
        "id": "SWh-cPTTX2tO",
        "outputId": "ffc1aa4c-637f-4386-ab37-993f4405414b"
      },
      "source": [
        "print('Nama-nama elemen utama:\\n', cov_jabar_raw.keys())"
      ],
      "execution_count": 10,
      "outputs": [
        {
          "output_type": "stream",
          "text": [
            "Nama-nama elemen utama:\n",
            " dict_keys(['last_date', 'provinsi', 'kasus_total', 'kasus_tanpa_tgl', 'kasus_dengan_tgl', 'meninggal_persen', 'meninggal_tanpa_tgl', 'meninggal_dengan_tgl', 'sembuh_persen', 'sembuh_tanpa_tgl', 'sembuh_dengan_tgl', 'list_perkembangan', 'data'])\n"
          ],
          "name": "stdout"
        }
      ]
    },
    {
      "cell_type": "markdown",
      "metadata": {
        "id": "_FDQM5oMX4T2"
      },
      "source": [
        "jawablah pertanyaan berikut:\n",
        "- Berapa jumlah total kasus COVID-19 di Jawa Barat?\n",
        "- Berapa persentase kematian akibat COVID-19 di Jawa Barat?\n",
        "- Berapa persentase tingkat kesembuhan dari COVID-19 di Jawa Barat?"
      ]
    },
    {
      "cell_type": "code",
      "metadata": {
        "colab": {
          "base_uri": "https://localhost:8080/"
        },
        "id": "eapA0Fo5XwTe",
        "outputId": "0c01f01f-0b0e-4388-dc58-70f528e67cd4"
      },
      "source": [
        "print('Jumlah total kasus COVID-19 di Jawa Barat                 : %d' %cov_jabar_raw['kasus_total'])\n",
        "print('Persentase kematian akibat COVID-19 di Jawa Barat         : %f.2%%' %cov_jabar_raw['meninggal_persen'])\n",
        "print('Persentase tingkat kesembuhan dari COVID-19 di Jawa Barat : %f.2%%' %cov_jabar_raw['sembuh_persen'])"
      ],
      "execution_count": 12,
      "outputs": [
        {
          "output_type": "stream",
          "text": [
            "Jumlah total kasus COVID-19 di Jawa Barat                 : 238613\n",
            "Persentase kematian akibat COVID-19 di Jawa Barat         : 1.197755.2%\n",
            "Persentase tingkat kesembuhan dari COVID-19 di Jawa Barat : 85.863721.2%\n"
          ],
          "name": "stdout"
        }
      ]
    },
    {
      "cell_type": "markdown",
      "metadata": {
        "id": "pUEcqMK7YC__"
      },
      "source": [
        "## Memperoleh Informasi yang Lebih Lengkap\n",
        "ekstrak data tersebut dari cov_jabar_raw dan mengubah data bertipe dict ke pandas dataframe"
      ]
    },
    {
      "cell_type": "code",
      "metadata": {
        "colab": {
          "base_uri": "https://localhost:8080/",
          "height": 204
        },
        "id": "p9mWhE2uYHff",
        "outputId": "52048a33-8a65-4bf8-f659-8cae49d22229"
      },
      "source": [
        "import numpy as np\n",
        "import pandas as pd\n",
        "\n",
        "# simpan hasilnya sebagai obyek bernama cov_jabar\n",
        "cov_jabar = pd.DataFrame(cov_jabar_raw['list_perkembangan'])\n",
        "# lihat 5 data teratas\n",
        "cov_jabar.head()"
      ],
      "execution_count": 14,
      "outputs": [
        {
          "output_type": "execute_result",
          "data": {
            "text/html": [
              "<div>\n",
              "<style scoped>\n",
              "    .dataframe tbody tr th:only-of-type {\n",
              "        vertical-align: middle;\n",
              "    }\n",
              "\n",
              "    .dataframe tbody tr th {\n",
              "        vertical-align: top;\n",
              "    }\n",
              "\n",
              "    .dataframe thead th {\n",
              "        text-align: right;\n",
              "    }\n",
              "</style>\n",
              "<table border=\"1\" class=\"dataframe\">\n",
              "  <thead>\n",
              "    <tr style=\"text-align: right;\">\n",
              "      <th></th>\n",
              "      <th>tanggal</th>\n",
              "      <th>KASUS</th>\n",
              "      <th>MENINGGAL</th>\n",
              "      <th>SEMBUH</th>\n",
              "      <th>DIRAWAT_OR_ISOLASI</th>\n",
              "      <th>AKUMULASI_KASUS</th>\n",
              "      <th>AKUMULASI_SEMBUH</th>\n",
              "      <th>AKUMULASI_MENINGGAL</th>\n",
              "      <th>AKUMULASI_DIRAWAT_OR_ISOLASI</th>\n",
              "    </tr>\n",
              "  </thead>\n",
              "  <tbody>\n",
              "    <tr>\n",
              "      <th>0</th>\n",
              "      <td>1583107200000</td>\n",
              "      <td>3</td>\n",
              "      <td>0</td>\n",
              "      <td>0</td>\n",
              "      <td>3</td>\n",
              "      <td>3</td>\n",
              "      <td>0</td>\n",
              "      <td>0</td>\n",
              "      <td>3</td>\n",
              "    </tr>\n",
              "    <tr>\n",
              "      <th>1</th>\n",
              "      <td>1583193600000</td>\n",
              "      <td>1</td>\n",
              "      <td>1</td>\n",
              "      <td>0</td>\n",
              "      <td>0</td>\n",
              "      <td>4</td>\n",
              "      <td>0</td>\n",
              "      <td>1</td>\n",
              "      <td>3</td>\n",
              "    </tr>\n",
              "    <tr>\n",
              "      <th>2</th>\n",
              "      <td>1583280000000</td>\n",
              "      <td>1</td>\n",
              "      <td>0</td>\n",
              "      <td>0</td>\n",
              "      <td>1</td>\n",
              "      <td>5</td>\n",
              "      <td>0</td>\n",
              "      <td>1</td>\n",
              "      <td>4</td>\n",
              "    </tr>\n",
              "    <tr>\n",
              "      <th>3</th>\n",
              "      <td>1583366400000</td>\n",
              "      <td>1</td>\n",
              "      <td>0</td>\n",
              "      <td>0</td>\n",
              "      <td>1</td>\n",
              "      <td>6</td>\n",
              "      <td>0</td>\n",
              "      <td>1</td>\n",
              "      <td>5</td>\n",
              "    </tr>\n",
              "    <tr>\n",
              "      <th>4</th>\n",
              "      <td>1583452800000</td>\n",
              "      <td>1</td>\n",
              "      <td>0</td>\n",
              "      <td>0</td>\n",
              "      <td>1</td>\n",
              "      <td>7</td>\n",
              "      <td>0</td>\n",
              "      <td>1</td>\n",
              "      <td>6</td>\n",
              "    </tr>\n",
              "  </tbody>\n",
              "</table>\n",
              "</div>"
            ],
            "text/plain": [
              "         tanggal  KASUS  ...  AKUMULASI_MENINGGAL  AKUMULASI_DIRAWAT_OR_ISOLASI\n",
              "0  1583107200000      3  ...                    0                             3\n",
              "1  1583193600000      1  ...                    1                             3\n",
              "2  1583280000000      1  ...                    1                             4\n",
              "3  1583366400000      1  ...                    1                             5\n",
              "4  1583452800000      1  ...                    1                             6\n",
              "\n",
              "[5 rows x 9 columns]"
            ]
          },
          "metadata": {
            "tags": []
          },
          "execution_count": 14
        }
      ]
    },
    {
      "cell_type": "markdown",
      "metadata": {
        "id": "lwxHRtA4YsHx"
      },
      "source": [
        "cov_jabar menggunakan method info()"
      ]
    },
    {
      "cell_type": "code",
      "metadata": {
        "colab": {
          "base_uri": "https://localhost:8080/"
        },
        "id": "5y_R7aHbYe-j",
        "outputId": "d4b49292-5376-4df3-9ac3-c1151b4115ee"
      },
      "source": [
        "cov_jabar.info()"
      ],
      "execution_count": 15,
      "outputs": [
        {
          "output_type": "stream",
          "text": [
            "<class 'pandas.core.frame.DataFrame'>\n",
            "RangeIndex: 383 entries, 0 to 382\n",
            "Data columns (total 9 columns):\n",
            " #   Column                        Non-Null Count  Dtype\n",
            "---  ------                        --------------  -----\n",
            " 0   tanggal                       383 non-null    int64\n",
            " 1   KASUS                         383 non-null    int64\n",
            " 2   MENINGGAL                     383 non-null    int64\n",
            " 3   SEMBUH                        383 non-null    int64\n",
            " 4   DIRAWAT_OR_ISOLASI            383 non-null    int64\n",
            " 5   AKUMULASI_KASUS               383 non-null    int64\n",
            " 6   AKUMULASI_SEMBUH              383 non-null    int64\n",
            " 7   AKUMULASI_MENINGGAL           383 non-null    int64\n",
            " 8   AKUMULASI_DIRAWAT_OR_ISOLASI  383 non-null    int64\n",
            "dtypes: int64(9)\n",
            "memory usage: 27.1 KB\n"
          ],
          "name": "stdout"
        }
      ]
    },
    {
      "cell_type": "markdown",
      "metadata": {
        "id": "CDcsVYnxY77F"
      },
      "source": [
        "## Menjinakkan Data \n",
        "menjinakan data cov_jabar dengan beberapa tahapan\n",
        "- Menghapus kolom DIRAWAT_OR_ISOLASI dan semua kolom yang berisi nilai kumulatif\n",
        "- Merubah format penulisan semua kolom menjadi huruf kecil\n",
        "- Mengganti nama kolom kasus menjadi kasus_baru\n",
        "- Memperbaiki tipe data pada kolom tanggal menggunakan pd.to_datetime"
      ]
    },
    {
      "cell_type": "code",
      "metadata": {
        "colab": {
          "base_uri": "https://localhost:8080/",
          "height": 204
        },
        "id": "dWnrTGfbYxyh",
        "outputId": "c048c727-6879-46ee-afaf-9a8ab1da2bc1"
      },
      "source": [
        "cov_jabar_tidy = (cov_jabar.drop(columns=[item for item in cov_jabar.columns\n",
        "\t\t\t\t\t\t\t\t\t\t\t\t\t\t\t\tif item.startswith('AKUMULASI')\n",
        "\t\t\t\t\t\t\t\t\t\t\t\t\t\t\t\tor item.startswith('DIRAWAT')])\n",
        "\t\t\t\t\t\t\t\t\t\t\t\t.rename(columns=str.lower)\n",
        "\t\t\t\t\t\t\t\t\t\t\t\t.rename(columns={'kasus': 'kasus_baru'})\n",
        "\t\t\t\t  )\n",
        "# Simpan hasil pengolahan\n",
        "cov_jabar_tidy['tanggal'] = pd.to_datetime(cov_jabar_tidy['tanggal']*1e6, unit='ns')\n",
        "# Lima data teratas\n",
        "cov_jabar_tidy.head()"
      ],
      "execution_count": 17,
      "outputs": [
        {
          "output_type": "execute_result",
          "data": {
            "text/html": [
              "<div>\n",
              "<style scoped>\n",
              "    .dataframe tbody tr th:only-of-type {\n",
              "        vertical-align: middle;\n",
              "    }\n",
              "\n",
              "    .dataframe tbody tr th {\n",
              "        vertical-align: top;\n",
              "    }\n",
              "\n",
              "    .dataframe thead th {\n",
              "        text-align: right;\n",
              "    }\n",
              "</style>\n",
              "<table border=\"1\" class=\"dataframe\">\n",
              "  <thead>\n",
              "    <tr style=\"text-align: right;\">\n",
              "      <th></th>\n",
              "      <th>tanggal</th>\n",
              "      <th>kasus_baru</th>\n",
              "      <th>meninggal</th>\n",
              "      <th>sembuh</th>\n",
              "    </tr>\n",
              "  </thead>\n",
              "  <tbody>\n",
              "    <tr>\n",
              "      <th>0</th>\n",
              "      <td>2020-03-02</td>\n",
              "      <td>3</td>\n",
              "      <td>0</td>\n",
              "      <td>0</td>\n",
              "    </tr>\n",
              "    <tr>\n",
              "      <th>1</th>\n",
              "      <td>2020-03-03</td>\n",
              "      <td>1</td>\n",
              "      <td>1</td>\n",
              "      <td>0</td>\n",
              "    </tr>\n",
              "    <tr>\n",
              "      <th>2</th>\n",
              "      <td>2020-03-04</td>\n",
              "      <td>1</td>\n",
              "      <td>0</td>\n",
              "      <td>0</td>\n",
              "    </tr>\n",
              "    <tr>\n",
              "      <th>3</th>\n",
              "      <td>2020-03-05</td>\n",
              "      <td>1</td>\n",
              "      <td>0</td>\n",
              "      <td>0</td>\n",
              "    </tr>\n",
              "    <tr>\n",
              "      <th>4</th>\n",
              "      <td>2020-03-06</td>\n",
              "      <td>1</td>\n",
              "      <td>0</td>\n",
              "      <td>0</td>\n",
              "    </tr>\n",
              "  </tbody>\n",
              "</table>\n",
              "</div>"
            ],
            "text/plain": [
              "     tanggal  kasus_baru  meninggal  sembuh\n",
              "0 2020-03-02           3          0       0\n",
              "1 2020-03-03           1          1       0\n",
              "2 2020-03-04           1          0       0\n",
              "3 2020-03-05           1          0       0\n",
              "4 2020-03-06           1          0       0"
            ]
          },
          "metadata": {
            "tags": []
          },
          "execution_count": 17
        }
      ]
    },
    {
      "cell_type": "markdown",
      "metadata": {
        "id": "ZJh-yZbDZUIM"
      },
      "source": [
        "## Menunjukkan Melalui Gambar\n",
        "mengekspresikan data tersebut dalam bentuk grafik agar lebih mudah dicerna \n",
        "\n",
        "```\n",
        "fig, ax = plt.subplots(figsize=(10,5))\n",
        "ax.bar(data=cov_jabar_tidy, x='tanggal', height='kasus_baru')\n",
        "```\n",
        "komponen utama untuk membuat visualisasi antara lain adalah tabel data, kolom data, serta bentuk geometri untuk menampilkan data\n",
        "- membuat scatter-plot yang diperlukan adalah bentuk geometri titik (.scatter())\n",
        "- line-chart memerlukan geometri garis (.plot())\n",
        "- bar-chart memerlukan bentuk geometri batang atau kolom (.bar())"
      ]
    },
    {
      "cell_type": "code",
      "metadata": {
        "colab": {
          "base_uri": "https://localhost:8080/",
          "height": 337
        },
        "id": "2xdG-2WyZd0N",
        "outputId": "47d3f5ab-143e-4dd0-e488-f36cf61e478e"
      },
      "source": [
        "import matplotlib.pyplot as plt\n",
        "\n",
        "plt.clf()\n",
        "fig, ax = plt.subplots(figsize=(10,5))\n",
        "ax.bar(data=cov_jabar_tidy, x='tanggal', height='kasus_baru')\n",
        "plt.show()"
      ],
      "execution_count": 18,
      "outputs": [
        {
          "output_type": "display_data",
          "data": {
            "text/plain": [
              "<Figure size 432x288 with 0 Axes>"
            ]
          },
          "metadata": {
            "tags": []
          }
        },
        {
          "output_type": "display_data",
          "data": {
            "image/png": "[encoded data removed]",
            "text/plain": [
              "<Figure size 720x360 with 1 Axes>"
            ]
          },
          "metadata": {
            "tags": [],
            "needs_background": "light"
          }
        }
      ]
    },
    {
      "cell_type": "markdown",
      "metadata": {
        "id": "fkZqvuK5aBQR"
      },
      "source": [
        "## Informasi pada Grafik\n",
        "membuat bar-chart namun informasinya belum jelas"
      ]
    },
    {
      "cell_type": "code",
      "metadata": {
        "colab": {
          "base_uri": "https://localhost:8080/",
          "height": 399
        },
        "id": "MlruXwd8aLjI",
        "outputId": "d8c6567e-d9fa-419a-ef78-010c02b20ad9"
      },
      "source": [
        "import matplotlib.pyplot as plt\n",
        "import matplotlib.dates as mdates\n",
        "\n",
        "plt.clf()\n",
        "fig, ax = plt.subplots(figsize=(10,5))\n",
        "ax.bar(data=cov_jabar_tidy, x='tanggal', height='kasus_baru', color='salmon')\n",
        "fig.suptitle('Kasus Harian Positif COVID-19 di Jawa Barat',\n",
        "y=1.00, fontsize=16, fontweight='bold', ha='center')\n",
        "ax.set_title('Terjadi pelonjakan kasus di awal bulan Juli akibat klaster Secapa AD Bandung',\n",
        "fontsize=10)\n",
        "ax.set_xlabel('')\n",
        "ax.set_ylabel('Jumlah kasus')\n",
        "ax.text(1, -0.1, 'Sumber data: covid.19.go.id', color='blue',\n",
        "\t\tha='right', transform=ax.transAxes)\n",
        "\n",
        "ax.xaxis.set_major_locator(mdates.MonthLocator())\n",
        "ax.xaxis.set_major_formatter(mdates.DateFormatter('%b %Y'))\n",
        "\n",
        "plt.grid(axis='y')\n",
        "plt.tight_layout()\n",
        "plt.show()"
      ],
      "execution_count": 19,
      "outputs": [
        {
          "output_type": "display_data",
          "data": {
            "text/plain": [
              "<Figure size 432x288 with 0 Axes>"
            ]
          },
          "metadata": {
            "tags": []
          }
        },
        {
          "output_type": "display_data",
          "data": {
            "image/png": "[encoded data removed]",
            "text/plain": [
              "<Figure size 720x360 with 1 Axes>"
            ]
          },
          "metadata": {
            "tags": [],
            "needs_background": "light"
          }
        }
      ]
    },
    {
      "cell_type": "markdown",
      "metadata": {
        "id": "NX1moMXDaGI4"
      },
      "source": [
        "## Grafik untuk Kasus Sembuh\n",
        "menggunakan data kasus sembuh dengan warna olivedrab"
      ]
    },
    {
      "cell_type": "code",
      "metadata": {
        "colab": {
          "base_uri": "https://localhost:8080/",
          "height": 388
        },
        "id": "TNVjmKAMaYnf",
        "outputId": "c3f15e45-f359-4d38-f499-acd9437b268a"
      },
      "source": [
        "import matplotlib.pyplot as plt\n",
        "import matplotlib.dates as mdates\n",
        "\n",
        "plt.clf()\n",
        "fig, ax = plt.subplots(figsize=(10,5))\n",
        "ax.bar(data=cov_jabar_tidy, x='tanggal', height='sembuh', color='olivedrab')\n",
        "ax.set_title('Kasus Harian Sembuh Dari COVID-19 di Jawa Barat',\n",
        "             fontsize=22)\n",
        "ax.set_xlabel('')\n",
        "ax.set_ylabel('Jumlah kasus')\n",
        "ax.text(1, -0.1, 'Sumber data: covid.19.go.id', color='blue',\n",
        "        ha='right', transform=ax.transAxes)\n",
        "\n",
        "ax.xaxis.set_major_locator(mdates.MonthLocator())\n",
        "ax.xaxis.set_major_formatter(mdates.DateFormatter('%b %Y'))\n",
        "\n",
        "plt.grid(axis='y')\n",
        "plt.tight_layout()\n",
        "plt.show()"
      ],
      "execution_count": 20,
      "outputs": [
        {
          "output_type": "display_data",
          "data": {
            "text/plain": [
              "<Figure size 432x288 with 0 Axes>"
            ]
          },
          "metadata": {
            "tags": []
          }
        },
        {
          "output_type": "display_data",
          "data": {
            "image/png": "[encoded data removed]",
            "text/plain": [
              "<Figure size 720x360 with 1 Axes>"
            ]
          },
          "metadata": {
            "tags": [],
            "needs_background": "light"
          }
        }
      ]
    },
    {
      "cell_type": "markdown",
      "metadata": {
        "id": "cVwLZBodaJKt"
      },
      "source": [
        "## Grafik untuk Kasus Meninggal\n",
        "menggunakan data kasus meninggal dengan warna slategrey"
      ]
    },
    {
      "cell_type": "code",
      "metadata": {
        "colab": {
          "base_uri": "https://localhost:8080/",
          "height": 388
        },
        "id": "gbbXqYdaakRW",
        "outputId": "41697e65-4b43-4d6c-d3e5-b249bede69b6"
      },
      "source": [
        "import matplotlib.pyplot as plt\n",
        "import matplotlib.dates as mdates\n",
        "\n",
        "plt.clf()\n",
        "fig, ax = plt.subplots(figsize=(10,5))\n",
        "ax.bar(data=cov_jabar_tidy, x='tanggal', height='meninggal', color='slategrey')\n",
        "ax.set_title('Kasus Harian Meninggal Dari COVID-19 di Jawa Barat',\n",
        "             fontsize=22)\n",
        "ax.set_xlabel('')\n",
        "ax.set_ylabel('Jumlah kasus')\n",
        "ax.text(1, -0.1, 'Sumber data: covid.19.go.id', color='blue',\n",
        "        ha='right', transform=ax.transAxes)\n",
        "\n",
        "ax.xaxis.set_major_locator(mdates.MonthLocator())\n",
        "ax.xaxis.set_major_formatter(mdates.DateFormatter('%b %Y'))\n",
        "\n",
        "plt.grid(axis='y')\n",
        "plt.tight_layout()\n",
        "plt.show()"
      ],
      "execution_count": 21,
      "outputs": [
        {
          "output_type": "display_data",
          "data": {
            "text/plain": [
              "<Figure size 432x288 with 0 Axes>"
            ]
          },
          "metadata": {
            "tags": []
          }
        },
        {
          "output_type": "display_data",
          "data": {
            "image/png": "[encoded data removed]",
            "text/plain": [
              "<Figure size 720x360 with 1 Axes>"
            ]
          },
          "metadata": {
            "tags": [],
            "needs_background": "light"
          }
        }
      ]
    },
    {
      "cell_type": "markdown",
      "metadata": {
        "id": "j8XXOoFoNRzA"
      },
      "source": [
        "# Menggali Lebih Dalam"
      ]
    },
    {
      "cell_type": "markdown",
      "metadata": {
        "id": "ldYhAagXbC_B"
      },
      "source": [
        "## Apakah Pekan ini Lebih Baik?\n",
        "mengamati perkembangan kasus dalam rentang waktu pekanan\n",
        "- set terlebih dahulu kolom tanggal pada cov_jabar_tidy sebagai index\n",
        "- terapkan method pada time series di pandas, `resampling` per pekan dan gunakan agregasi penjumlahan\n",
        "- mengekstrak informasi pekan dalam satu tahun adalah `weekofyear` dan `year` untuk tahun"
      ]
    },
    {
      "cell_type": "code",
      "metadata": {
        "colab": {
          "base_uri": "https://localhost:8080/",
          "height": 204
        },
        "id": "qyKbjnFJbOVv",
        "outputId": "969eedb8-cadb-40d1-d026-e4ac0a84546f"
      },
      "source": [
        "cov_jabar_pekanan = (cov_jabar_tidy.set_index('tanggal')['kasus_baru']\n",
        "                                   .resample('W')\n",
        "                                   .sum()\n",
        "                                   .reset_index()\n",
        "                                   .rename(columns={'kasus_baru': 'jumlah'})\n",
        "                    )\n",
        "cov_jabar_pekanan['tahun'] = cov_jabar_pekanan['tanggal'].apply(lambda x: x.year)\n",
        "cov_jabar_pekanan['pekan_ke'] =cov_jabar_pekanan['tanggal'].apply(lambda x: x.weekofyear)\n",
        "cov_jabar_pekanan = cov_jabar_pekanan[['tahun', 'pekan_ke', 'jumlah']]\n",
        "# Lima data teratas cov_jabar_pekanan \n",
        "cov_jabar_pekanan.head()"
      ],
      "execution_count": 24,
      "outputs": [
        {
          "output_type": "execute_result",
          "data": {
            "text/html": [
              "<div>\n",
              "<style scoped>\n",
              "    .dataframe tbody tr th:only-of-type {\n",
              "        vertical-align: middle;\n",
              "    }\n",
              "\n",
              "    .dataframe tbody tr th {\n",
              "        vertical-align: top;\n",
              "    }\n",
              "\n",
              "    .dataframe thead th {\n",
              "        text-align: right;\n",
              "    }\n",
              "</style>\n",
              "<table border=\"1\" class=\"dataframe\">\n",
              "  <thead>\n",
              "    <tr style=\"text-align: right;\">\n",
              "      <th></th>\n",
              "      <th>tahun</th>\n",
              "      <th>pekan_ke</th>\n",
              "      <th>jumlah</th>\n",
              "    </tr>\n",
              "  </thead>\n",
              "  <tbody>\n",
              "    <tr>\n",
              "      <th>0</th>\n",
              "      <td>2020</td>\n",
              "      <td>10</td>\n",
              "      <td>7</td>\n",
              "    </tr>\n",
              "    <tr>\n",
              "      <th>1</th>\n",
              "      <td>2020</td>\n",
              "      <td>11</td>\n",
              "      <td>5</td>\n",
              "    </tr>\n",
              "    <tr>\n",
              "      <th>2</th>\n",
              "      <td>2020</td>\n",
              "      <td>12</td>\n",
              "      <td>52</td>\n",
              "    </tr>\n",
              "    <tr>\n",
              "      <th>3</th>\n",
              "      <td>2020</td>\n",
              "      <td>13</td>\n",
              "      <td>104</td>\n",
              "    </tr>\n",
              "    <tr>\n",
              "      <th>4</th>\n",
              "      <td>2020</td>\n",
              "      <td>14</td>\n",
              "      <td>122</td>\n",
              "    </tr>\n",
              "  </tbody>\n",
              "</table>\n",
              "</div>"
            ],
            "text/plain": [
              "   tahun  pekan_ke  jumlah\n",
              "0   2020        10       7\n",
              "1   2020        11       5\n",
              "2   2020        12      52\n",
              "3   2020        13     104\n",
              "4   2020        14     122"
            ]
          },
          "metadata": {
            "tags": []
          },
          "execution_count": 24
        }
      ]
    },
    {
      "cell_type": "markdown",
      "metadata": {
        "id": "5EfRqMtbbqpR"
      },
      "source": [
        "info data jabar pekanan"
      ]
    },
    {
      "cell_type": "code",
      "metadata": {
        "colab": {
          "base_uri": "https://localhost:8080/"
        },
        "id": "O-NW_ma5bwjH",
        "outputId": "109d5f0c-b9a9-407c-cdb9-d93d5c9cd8fe"
      },
      "source": [
        "print('Info cov_jabar_pekanan:')\n",
        "cov_jabar_pekanan.info()"
      ],
      "execution_count": 23,
      "outputs": [
        {
          "output_type": "stream",
          "text": [
            "Info cov_jabar_pekanan:\n",
            "<class 'pandas.core.frame.DataFrame'>\n",
            "RangeIndex: 55 entries, 0 to 54\n",
            "Data columns (total 3 columns):\n",
            " #   Column    Non-Null Count  Dtype\n",
            "---  ------    --------------  -----\n",
            " 0   tahun     55 non-null     int64\n",
            " 1   pekan_ke  55 non-null     int64\n",
            " 2   jumlah    55 non-null     int64\n",
            "dtypes: int64(3)\n",
            "memory usage: 1.4 KB\n"
          ],
          "name": "stdout"
        }
      ]
    },
    {
      "cell_type": "markdown",
      "metadata": {
        "id": "vk4eFuZ_bDVH"
      },
      "source": [
        "## Menjawab Pertanyaan\n",
        "- Membuat kolom baru yang berisi jumlah kasus baru dalam satu pekan sebelumnya. Kolom ini diberi nama `jumlah_pekanlalu`.\n",
        "- Mengganti nilai NaN pada kolom `jumlah_pekanlalu` dengan nilai 0\n",
        "- Melakukan komparasi antara kolom `jumlah` dengan kolom `jumlah_pekanlalu`. Hasil komparasi ini disimpan dalam kolom baru dengan nama `lebih_baik`, isinya adalah True apabila jumlah kasus baru pekan ini lebih rendah dibandingkan jumlah kasus pekan lalu"
      ]
    },
    {
      "cell_type": "code",
      "metadata": {
        "colab": {
          "base_uri": "https://localhost:8080/",
          "height": 359
        },
        "id": "jp4CisUrd1Z4",
        "outputId": "25e3e3f3-8570-4332-f67a-d490b8ba1fca"
      },
      "source": [
        "# method shift() untuk membuat kolom jumlah_pekanlalu\n",
        "cov_jabar_pekanan['jumlah_pekanlalu'] = cov_jabar_pekanan['jumlah'].shift().replace(np.nan, 0).astype(np.int)\n",
        "cov_jabar_pekanan['lebih_baik'] = cov_jabar_pekanan['jumlah'] < cov_jabar_pekanan['jumlah_pekanlalu']\n",
        "\n",
        "# menampilkan sepuluh data teratas\n",
        "cov_jabar_pekanan.head(10)"
      ],
      "execution_count": 25,
      "outputs": [
        {
          "output_type": "execute_result",
          "data": {
            "text/html": [
              "<div>\n",
              "<style scoped>\n",
              "    .dataframe tbody tr th:only-of-type {\n",
              "        vertical-align: middle;\n",
              "    }\n",
              "\n",
              "    .dataframe tbody tr th {\n",
              "        vertical-align: top;\n",
              "    }\n",
              "\n",
              "    .dataframe thead th {\n",
              "        text-align: right;\n",
              "    }\n",
              "</style>\n",
              "<table border=\"1\" class=\"dataframe\">\n",
              "  <thead>\n",
              "    <tr style=\"text-align: right;\">\n",
              "      <th></th>\n",
              "      <th>tahun</th>\n",
              "      <th>pekan_ke</th>\n",
              "      <th>jumlah</th>\n",
              "      <th>jumlah_pekanlalu</th>\n",
              "      <th>lebih_baik</th>\n",
              "    </tr>\n",
              "  </thead>\n",
              "  <tbody>\n",
              "    <tr>\n",
              "      <th>0</th>\n",
              "      <td>2020</td>\n",
              "      <td>10</td>\n",
              "      <td>7</td>\n",
              "      <td>0</td>\n",
              "      <td>False</td>\n",
              "    </tr>\n",
              "    <tr>\n",
              "      <th>1</th>\n",
              "      <td>2020</td>\n",
              "      <td>11</td>\n",
              "      <td>5</td>\n",
              "      <td>7</td>\n",
              "      <td>True</td>\n",
              "    </tr>\n",
              "    <tr>\n",
              "      <th>2</th>\n",
              "      <td>2020</td>\n",
              "      <td>12</td>\n",
              "      <td>52</td>\n",
              "      <td>5</td>\n",
              "      <td>False</td>\n",
              "    </tr>\n",
              "    <tr>\n",
              "      <th>3</th>\n",
              "      <td>2020</td>\n",
              "      <td>13</td>\n",
              "      <td>104</td>\n",
              "      <td>52</td>\n",
              "      <td>False</td>\n",
              "    </tr>\n",
              "    <tr>\n",
              "      <th>4</th>\n",
              "      <td>2020</td>\n",
              "      <td>14</td>\n",
              "      <td>122</td>\n",
              "      <td>104</td>\n",
              "      <td>False</td>\n",
              "    </tr>\n",
              "    <tr>\n",
              "      <th>5</th>\n",
              "      <td>2020</td>\n",
              "      <td>15</td>\n",
              "      <td>235</td>\n",
              "      <td>122</td>\n",
              "      <td>False</td>\n",
              "    </tr>\n",
              "    <tr>\n",
              "      <th>6</th>\n",
              "      <td>2020</td>\n",
              "      <td>16</td>\n",
              "      <td>277</td>\n",
              "      <td>235</td>\n",
              "      <td>False</td>\n",
              "    </tr>\n",
              "    <tr>\n",
              "      <th>7</th>\n",
              "      <td>2020</td>\n",
              "      <td>17</td>\n",
              "      <td>216</td>\n",
              "      <td>277</td>\n",
              "      <td>True</td>\n",
              "    </tr>\n",
              "    <tr>\n",
              "      <th>8</th>\n",
              "      <td>2020</td>\n",
              "      <td>18</td>\n",
              "      <td>156</td>\n",
              "      <td>216</td>\n",
              "      <td>True</td>\n",
              "    </tr>\n",
              "    <tr>\n",
              "      <th>9</th>\n",
              "      <td>2020</td>\n",
              "      <td>19</td>\n",
              "      <td>367</td>\n",
              "      <td>156</td>\n",
              "      <td>False</td>\n",
              "    </tr>\n",
              "  </tbody>\n",
              "</table>\n",
              "</div>"
            ],
            "text/plain": [
              "   tahun  pekan_ke  jumlah  jumlah_pekanlalu  lebih_baik\n",
              "0   2020        10       7                 0       False\n",
              "1   2020        11       5                 7        True\n",
              "2   2020        12      52                 5       False\n",
              "3   2020        13     104                52       False\n",
              "4   2020        14     122               104       False\n",
              "5   2020        15     235               122       False\n",
              "6   2020        16     277               235       False\n",
              "7   2020        17     216               277        True\n",
              "8   2020        18     156               216        True\n",
              "9   2020        19     367               156       False"
            ]
          },
          "metadata": {
            "tags": []
          },
          "execution_count": 25
        }
      ]
    },
    {
      "cell_type": "markdown",
      "metadata": {
        "id": "o1tJxW-3bI7I"
      },
      "source": [
        "## Membuat Bar Chart\n",
        "membuat bar-chat penambahan kasus pekanan yang ditambahkan informasi baru untuk menjawab pertanyaan: \"Apakah pekan ini lebih baik?\""
      ]
    },
    {
      "cell_type": "code",
      "metadata": {
        "colab": {
          "base_uri": "https://localhost:8080/",
          "height": 399
        },
        "id": "yL1ZAxHVeEv4",
        "outputId": "6d4f66e2-388d-423c-e35e-d1c839995e61"
      },
      "source": [
        "import matplotlib.pyplot as plt\n",
        "\n",
        "plt.clf()\n",
        "fig, ax = plt.subplots(figsize=(10,5))\n",
        "ax.bar(data=cov_jabar_pekanan, x='pekan_ke', height='jumlah',\n",
        "color=['mediumseagreen' if x is True else 'salmon' for x in cov_jabar_pekanan['lebih_baik']])\n",
        "fig.suptitle('Kasus Pekanan Positif COVID-19 di Jawa Barat',\n",
        "y=1.00, fontsize=16, fontweight='bold', ha='center')\n",
        "ax.set_title('Kolom hijau menunjukan penambahan kasus baru lebih sedikit dibandingkan satu pekan sebelumnya',\n",
        "fontsize=12)\n",
        "ax.set_xlabel('')\n",
        "ax.set_ylabel('Jumlah kasus')\n",
        "ax.text(1, -0.1, 'Sumber data: covid.19.go.id', color='blue',\n",
        "ha='right', transform=ax.transAxes)\n",
        "\t\t\t  \n",
        "plt.grid(axis='y')\n",
        "plt.tight_layout()\n",
        "plt.show()"
      ],
      "execution_count": 26,
      "outputs": [
        {
          "output_type": "display_data",
          "data": {
            "text/plain": [
              "<Figure size 432x288 with 0 Axes>"
            ]
          },
          "metadata": {
            "tags": []
          }
        },
        {
          "output_type": "display_data",
          "data": {
            "image/png": "[encoded data removed]",
            "text/plain": [
              "<Figure size 720x360 with 1 Axes>"
            ]
          },
          "metadata": {
            "tags": [],
            "needs_background": "light"
          }
        }
      ]
    },
    {
      "cell_type": "markdown",
      "metadata": {
        "id": "0GRI9hLXbJBX"
      },
      "source": [
        "## Pola dan Dinamika\n",
        "berapa kasus yang masih aktif menandakan sedang dalam perawatan atau isolasi\n",
        "\n",
        "menghitung jumlah kasus aktif dengan cara mengurangi jumlah akumulasi positif dengan jumlah akumulasi sembuh dan jumlah akumulasi meninggal"
      ]
    },
    {
      "cell_type": "code",
      "metadata": {
        "colab": {
          "base_uri": "https://localhost:8080/",
          "height": 204
        },
        "id": "HlAkLEMDeb-x",
        "outputId": "3838e28f-fdae-4601-e261-de6ed2f6c1a0"
      },
      "source": [
        "# menggunakan method cumsum() untuk menghitung nilai akumulasi dari suatu vektor numerik\n",
        "cov_jabar_akumulasi = cov_jabar_tidy[['tanggal']].copy()\n",
        "cov_jabar_akumulasi['akumulasi_aktif'] = (cov_jabar_tidy['kasus_baru'] - cov_jabar_tidy['sembuh'] - cov_jabar_tidy['meninggal']).cumsum()\n",
        "cov_jabar_akumulasi['akumulasi_sembuh'] = cov_jabar_tidy['sembuh'].cumsum()\n",
        "cov_jabar_akumulasi['akumulasi_meninggal'] = cov_jabar_tidy['meninggal'].cumsum()\n",
        "cov_jabar_akumulasi.tail()"
      ],
      "execution_count": 27,
      "outputs": [
        {
          "output_type": "execute_result",
          "data": {
            "text/html": [
              "<div>\n",
              "<style scoped>\n",
              "    .dataframe tbody tr th:only-of-type {\n",
              "        vertical-align: middle;\n",
              "    }\n",
              "\n",
              "    .dataframe tbody tr th {\n",
              "        vertical-align: top;\n",
              "    }\n",
              "\n",
              "    .dataframe thead th {\n",
              "        text-align: right;\n",
              "    }\n",
              "</style>\n",
              "<table border=\"1\" class=\"dataframe\">\n",
              "  <thead>\n",
              "    <tr style=\"text-align: right;\">\n",
              "      <th></th>\n",
              "      <th>tanggal</th>\n",
              "      <th>akumulasi_aktif</th>\n",
              "      <th>akumulasi_sembuh</th>\n",
              "      <th>akumulasi_meninggal</th>\n",
              "    </tr>\n",
              "  </thead>\n",
              "  <tbody>\n",
              "    <tr>\n",
              "      <th>378</th>\n",
              "      <td>2021-03-15</td>\n",
              "      <td>32864</td>\n",
              "      <td>197421</td>\n",
              "      <td>2733</td>\n",
              "    </tr>\n",
              "    <tr>\n",
              "      <th>379</th>\n",
              "      <td>2021-03-16</td>\n",
              "      <td>32515</td>\n",
              "      <td>199355</td>\n",
              "      <td>2765</td>\n",
              "    </tr>\n",
              "    <tr>\n",
              "      <th>380</th>\n",
              "      <td>2021-03-17</td>\n",
              "      <td>30354</td>\n",
              "      <td>202827</td>\n",
              "      <td>2801</td>\n",
              "    </tr>\n",
              "    <tr>\n",
              "      <th>381</th>\n",
              "      <td>2021-03-18</td>\n",
              "      <td>30653</td>\n",
              "      <td>203745</td>\n",
              "      <td>2845</td>\n",
              "    </tr>\n",
              "    <tr>\n",
              "      <th>382</th>\n",
              "      <td>2021-03-19</td>\n",
              "      <td>31925</td>\n",
              "      <td>203829</td>\n",
              "      <td>2850</td>\n",
              "    </tr>\n",
              "  </tbody>\n",
              "</table>\n",
              "</div>"
            ],
            "text/plain": [
              "       tanggal  akumulasi_aktif  akumulasi_sembuh  akumulasi_meninggal\n",
              "378 2021-03-15            32864            197421                 2733\n",
              "379 2021-03-16            32515            199355                 2765\n",
              "380 2021-03-17            30354            202827                 2801\n",
              "381 2021-03-18            30653            203745                 2845\n",
              "382 2021-03-19            31925            203829                 2850"
            ]
          },
          "metadata": {
            "tags": []
          },
          "execution_count": 27
        }
      ]
    },
    {
      "cell_type": "markdown",
      "metadata": {
        "id": "9QdmdYx9bJIM"
      },
      "source": [
        "## Membuat Line Chart"
      ]
    },
    {
      "cell_type": "code",
      "metadata": {
        "colab": {
          "base_uri": "https://localhost:8080/",
          "height": 388
        },
        "id": "9IqVrqaue7gD",
        "outputId": "31ab4c52-38cc-44b2-c74b-e606a8de2728"
      },
      "source": [
        "import matplotlib.pyplot as plt\n",
        "import matplotlib.dates as mdates\n",
        "\n",
        "plt.clf()\n",
        "# buat line-chart pola kasus aktif dengan menggunakan method plot pada ax\n",
        "fig, ax = plt.subplots(figsize=(10,5))\n",
        "ax.plot('tanggal', 'akumulasi_aktif', data=cov_jabar_akumulasi, lw=2)\n",
        "\n",
        "ax.set_title('Akumulasi aktif COVID-19 di Jawa Barat',\n",
        "             fontsize=22)\n",
        "ax.set_xlabel('')\n",
        "ax.set_ylabel('Akumulasi aktif')\n",
        "ax.text(1, -0.1, 'Sumber data: covid.19.go.id', color='blue',\n",
        "        ha='right', transform=ax.transAxes)\n",
        "\n",
        "ax.xaxis.set_major_locator(mdates.MonthLocator())\n",
        "ax.xaxis.set_major_formatter(mdates.DateFormatter('%b %Y'))\n",
        "\n",
        "plt.grid()\n",
        "plt.tight_layout()\n",
        "plt.show()"
      ],
      "execution_count": 28,
      "outputs": [
        {
          "output_type": "display_data",
          "data": {
            "text/plain": [
              "<Figure size 432x288 with 0 Axes>"
            ]
          },
          "metadata": {
            "tags": []
          }
        },
        {
          "output_type": "display_data",
          "data": {
            "image/png": "[encoded data removed]",
            "text/plain": [
              "<Figure size 720x360 with 1 Axes>"
            ]
          },
          "metadata": {
            "tags": [],
            "needs_background": "light"
          }
        }
      ]
    },
    {
      "cell_type": "markdown",
      "metadata": {
        "id": "pK9ytT3IbJRA"
      },
      "source": [
        "## Kabar Buruk dan Kabar Baik\n",
        "membuat grafik komparasi antara akumulasi kasus aktif, kasus sembuh, dan kasus meninggal\n",
        "\n",
        "pilihan cara yang dapat ditempuh untuk membuat grafik\n",
        "- Menggunakan data frame cov_jabar_akumulasi, kemudian langsung melakukan line plot dan memilih warna garis yang sesuai untuk membedakan; atau\n",
        "- Menggunakan ax.plot() dan mengisikan kolom-kolom yang masing-masingnya menjadi x dan y dengan data=cov_jabar_akumulasi, dan kemudian menset warna berbeda untuk ketiga line plot."
      ]
    },
    {
      "cell_type": "code",
      "metadata": {
        "colab": {
          "base_uri": "https://localhost:8080/",
          "height": 388
        },
        "id": "9bo-6JGHfZ_Z",
        "outputId": "1ae41bd5-9edd-40af-90ae-e7d340101d17"
      },
      "source": [
        "import matplotlib.pyplot as plt\n",
        "import matplotlib.dates as mdates\n",
        "\n",
        "plt.clf()\n",
        "fig, ax = plt.subplots(figsize=(10,5))\n",
        "cov_jabar_akumulasi.plot(x='tanggal', kind='line', ax=ax, lw=3, \n",
        "\t\t\t\t\t\t color=['salmon', 'slategrey', 'olivedrab'])\n",
        "\n",
        "# membuat grafik komparasi antara akumulasi kasus aktif, kasus sembuh dan kasus meninggal\n",
        "ax.set_title('Dinamika Kasus COVID-19 di Jawa Barat', \n",
        "\t\t\t fontsize=22)\n",
        "ax.set_xlabel('')\n",
        "ax.set_ylabel('Akumulasi aktif')\n",
        "ax.text(1, -0.1, 'Sumber data: covid.19.go.id', color='blue',\n",
        "\t    ha='right', transform=ax.transAxes)\n",
        "\n",
        "ax.xaxis.set_major_locator(mdates.MonthLocator())\n",
        "ax.xaxis.set_major_formatter(mdates.DateFormatter('%b'))\n",
        "\n",
        "plt.grid()\n",
        "plt.tight_layout()\n",
        "plt.show()"
      ],
      "execution_count": 29,
      "outputs": [
        {
          "output_type": "display_data",
          "data": {
            "text/plain": [
              "<Figure size 432x288 with 0 Axes>"
            ]
          },
          "metadata": {
            "tags": []
          }
        },
        {
          "output_type": "display_data",
          "data": {
            "image/png": "[encoded data removed]",
            "text/plain": [
              "<Figure size 720x360 with 1 Axes>"
            ]
          },
          "metadata": {
            "tags": [],
            "needs_background": "light"
          }
        }
      ]
    }
  ]
}