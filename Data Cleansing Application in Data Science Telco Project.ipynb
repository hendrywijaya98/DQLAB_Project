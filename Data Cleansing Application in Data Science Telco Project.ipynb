{
 "metadata": {
  "language_info": {
   "codemirror_mode": {
    "name": "ipython",
    "version": 3
   },
   "file_extension": ".py",
   "mimetype": "text/x-python",
   "name": "python",
   "nbconvert_exporter": "python",
   "pygments_lexer": "ipython3",
   "version": "3.8.5-final"
  },
  "orig_nbformat": 2,
  "kernelspec": {
   "name": "python3",
   "display_name": "Python 3",
   "language": "python"
  }
 },
 "nbformat": 4,
 "nbformat_minor": 2,
 "cells": [
  {
   "source": [
    "memperhatikan customer experience dengan menentukan pelanggan akan berhenti berlangganan (churn) atau tidak melalui model prediksi \n",
    "\n",
    "Langkah yang akan dilakukan\n",
    "- Mencari ID pelanggan (Nomor telphone) yang valid\n",
    "- Mengatasi data-data yang masih kosong (Missing Values)\n",
    "- Mengatasi Nilai-Nilai Pencilan (Outlier) dari setiap Variable\n",
    "- Menstandarisasi Nilai dari Variable\n",
    "\n",
    "Library yang digunakan\n",
    "- Pandas\n",
    "    - library Python yang fokus untuk proses analisis data seperti manipulasi data, persiapan data, dan pembersihan data.\n",
    "        - read_csv() digunakan untuk membaca file csv\n",
    "        - str.match() digunakan untuk mencocokan dengan karakter tertentu\n",
    "        - drop() digunakan untuk menghapus\n",
    "        - count() digunakan untuk mengitung masing-masing variable\n",
    "        - drop_duplicates() digunakan untuk menghapus data duplicate rows\n",
    "        - fillna() digunakan untuk mengisi dengan nilai tertentu\n",
    "        - quantile() digunakan untuk melihat quantile ke tertentu\n",
    "        - mask() menganti nilai tertentu jika kondisi memenuhi\n",
    "        - astype() merunubah tipe data\n",
    "        - value_counts() digunakan untuk mengitung unik dari kolom\n",
    "        - sort_values() digunakan untuk sort values\n",
    "        - isnull() digunakan untuk mendeteksi missing values\n",
    "        - dropna() digunakan untuk menghapus missing values\n",
    "        - replace() digunakan untuk mengganti nilai\n",
    "        - Matplotlib\n",
    "- Matplotlib\n",
    "    - library Python yang fokus pada visualisasi data seperti membuat plot grafik. Dapat digunakan dalam skrip Python, Python dan IPython shell, server aplikasi web, dan beberapa toolkit graphical user interface (GUI) lainnya.\n",
    "        - figure() digunakan untuk membuat figure gambar baru\n",
    "- Seaborn\n",
    "    - Seaborn membangun di atas Matplotlib dan memperkenalkan tipe plot tambahan. Ini juga membuat plot Matplotlib tradisional lebih estetik.\n",
    "        - box_plot() digunakan untuk membuat box plot\n",
    "\n",
    "Data yang digunakan\n",
    "```\n",
    "df_load = pd.read_csv('https://dqlab-dataset.s3-ap-southeast-1.amazonaws.com/dqlab_telco.csv')\n",
    "```\n",
    "variabel yang dipake\n",
    "- UpdatedAt Periode of Data taken\n",
    "- customerID Customer ID\n",
    "- gender Whether the customer is a male or a female (Male, Female)\n",
    "- SeniorCitizen Whether the customer is a senior citizen or not (1, 0)\n",
    "- Partner Whether the customer has a partner or not (Yes, No)\n",
    "- Dependents Whether the customer has dependents or not (Yes, No)\n",
    "- tenure Number of months the customer has stayed with the company\n",
    "- PhoneService Whether the customer has a phone service or not (Yes, No)\n",
    "- MultipleLines Whether the customer has multiple lines or not (Yes, No, No phone service)\n",
    "- InternetService Customer’s internet service provider (DSL, Fiber optic, No)\n",
    "- OnlineSecurity Whether the customer has online security or not (Yes, No, No internet service)\n",
    "- OnlineBackup Whether the customer has online backup or not (Yes, No, No internet service)\n",
    "- DeviceProtection Whether the customer has device protection or not (Yes, No, No internet service)\n",
    "- TechSupport Whether the customer has tech support or not (Yes, No, No internet service)\n",
    "- StreamingTV Whether the customer has streaming TV or not (Yes, No, No internet service)\n",
    "- StreamingMovies Whether the customer has streaming movies or not (Yes, No, No internet service)\n",
    "- Contract The contract term of the customer (Month-to-month, One year, Two year)\n",
    "- PaperlessBilling Whether the customer has paperless billing or not (Yes, No)\n",
    "- PaymentMethod The customer’s payment method (Electronic check, Mailed check, Bank transfer (automatic), Credit card (automatic))\n",
    "- MonthlyCharges The amount charged to the customer monthly\n",
    "- TotalCharges The total amount charged to the customer\n",
    "- Churn Whether the customer churned or not (Yes or No)\n"
   ],
   "cell_type": "markdown",
   "metadata": {}
  },
  {
   "cell_type": "code",
   "execution_count": 7,
   "metadata": {},
   "outputs": [
    {
     "output_type": "stream",
     "name": "stdout",
     "text": [
      "7113 baris dan 22 kolom\n"
     ]
    }
   ],
   "source": [
    "# import library\n",
    "import pandas as pd\n",
    "# mempermudah penampilan row data\n",
    "pd.options.display.max_columns = 50\n",
    "\n",
    "# import dataset\n",
    "df_load = pd.read_csv('https://dqlab-dataset.s3-ap-southeast-1.amazonaws.com/dqlab_telco.csv')\n",
    "\n",
    "# Tampilkan jumlah baris dan kolom\n",
    "print(f'{df_load.shape[0]} baris dan {df_load.shape[1]} kolom')"
   ]
  },
  {
   "source": [
    "tampilkan 5 data teratas"
   ],
   "cell_type": "markdown",
   "metadata": {}
  },
  {
   "cell_type": "code",
   "execution_count": 4,
   "metadata": {},
   "outputs": [
    {
     "output_type": "execute_result",
     "data": {
      "text/plain": [
       "   UpdatedAt   customerID  gender  SeniorCitizen Partner Dependents  tenure  \\\n",
       "0     202006  45759018157  Female              0     Yes         No     1.0   \n",
       "1     202006  45557574145    Male              0      No         No    34.0   \n",
       "2     202006  45366876421    Male              0      No         No     2.0   \n",
       "3     202006  45779536532    Male              0      No         No    45.0   \n",
       "4     202006  45923787906  Female              0      No         No     2.0   \n",
       "\n",
       "  PhoneService     MultipleLines InternetService OnlineSecurity OnlineBackup  \\\n",
       "0           No  No phone service             DSL             No          Yes   \n",
       "1          Yes                No             DSL            Yes           No   \n",
       "2          Yes                No             DSL            Yes          Yes   \n",
       "3           No  No phone service             DSL            Yes           No   \n",
       "4          Yes                No     Fiber optic             No           No   \n",
       "\n",
       "  DeviceProtection TechSupport StreamingTV StreamingMovies        Contract  \\\n",
       "0               No          No          No              No  Month-to-month   \n",
       "1              Yes          No          No              No        One year   \n",
       "2               No          No          No              No  Month-to-month   \n",
       "3              Yes         Yes          No              No        One year   \n",
       "4               No          No          No              No  Month-to-month   \n",
       "\n",
       "  PaperlessBilling              PaymentMethod  MonthlyCharges  TotalCharges  \\\n",
       "0              Yes           Electronic check           29.85         29.85   \n",
       "1               No               Mailed check           56.95       1889.50   \n",
       "2              Yes               Mailed check           53.85        108.15   \n",
       "3               No  Bank transfer (automatic)           42.30       1840.75   \n",
       "4              Yes           Electronic check           70.70        151.65   \n",
       "\n",
       "  Churn  \n",
       "0    No  \n",
       "1    No  \n",
       "2   Yes  \n",
       "3    No  \n",
       "4   Yes  "
      ],
      "text/html": "<div>\n<style scoped>\n    .dataframe tbody tr th:only-of-type {\n        vertical-align: middle;\n    }\n\n    .dataframe tbody tr th {\n        vertical-align: top;\n    }\n\n    .dataframe thead th {\n        text-align: right;\n    }\n</style>\n<table border=\"1\" class=\"dataframe\">\n  <thead>\n    <tr style=\"text-align: right;\">\n      <th></th>\n      <th>UpdatedAt</th>\n      <th>customerID</th>\n      <th>gender</th>\n      <th>SeniorCitizen</th>\n      <th>Partner</th>\n      <th>Dependents</th>\n      <th>tenure</th>\n      <th>PhoneService</th>\n      <th>MultipleLines</th>\n      <th>InternetService</th>\n      <th>OnlineSecurity</th>\n      <th>OnlineBackup</th>\n      <th>DeviceProtection</th>\n      <th>TechSupport</th>\n      <th>StreamingTV</th>\n      <th>StreamingMovies</th>\n      <th>Contract</th>\n      <th>PaperlessBilling</th>\n      <th>PaymentMethod</th>\n      <th>MonthlyCharges</th>\n      <th>TotalCharges</th>\n      <th>Churn</th>\n    </tr>\n  </thead>\n  <tbody>\n    <tr>\n      <th>0</th>\n      <td>202006</td>\n      <td>45759018157</td>\n      <td>Female</td>\n      <td>0</td>\n      <td>Yes</td>\n      <td>No</td>\n      <td>1.0</td>\n      <td>No</td>\n      <td>No phone service</td>\n      <td>DSL</td>\n      <td>No</td>\n      <td>Yes</td>\n      <td>No</td>\n      <td>No</td>\n      <td>No</td>\n      <td>No</td>\n      <td>Month-to-month</td>\n      <td>Yes</td>\n      <td>Electronic check</td>\n      <td>29.85</td>\n      <td>29.85</td>\n      <td>No</td>\n    </tr>\n    <tr>\n      <th>1</th>\n      <td>202006</td>\n      <td>45557574145</td>\n      <td>Male</td>\n      <td>0</td>\n      <td>No</td>\n      <td>No</td>\n      <td>34.0</td>\n      <td>Yes</td>\n      <td>No</td>\n      <td>DSL</td>\n      <td>Yes</td>\n      <td>No</td>\n      <td>Yes</td>\n      <td>No</td>\n      <td>No</td>\n      <td>No</td>\n      <td>One year</td>\n      <td>No</td>\n      <td>Mailed check</td>\n      <td>56.95</td>\n      <td>1889.50</td>\n      <td>No</td>\n    </tr>\n    <tr>\n      <th>2</th>\n      <td>202006</td>\n      <td>45366876421</td>\n      <td>Male</td>\n      <td>0</td>\n      <td>No</td>\n      <td>No</td>\n      <td>2.0</td>\n      <td>Yes</td>\n      <td>No</td>\n      <td>DSL</td>\n      <td>Yes</td>\n      <td>Yes</td>\n      <td>No</td>\n      <td>No</td>\n      <td>No</td>\n      <td>No</td>\n      <td>Month-to-month</td>\n      <td>Yes</td>\n      <td>Mailed check</td>\n      <td>53.85</td>\n      <td>108.15</td>\n      <td>Yes</td>\n    </tr>\n    <tr>\n      <th>3</th>\n      <td>202006</td>\n      <td>45779536532</td>\n      <td>Male</td>\n      <td>0</td>\n      <td>No</td>\n      <td>No</td>\n      <td>45.0</td>\n      <td>No</td>\n      <td>No phone service</td>\n      <td>DSL</td>\n      <td>Yes</td>\n      <td>No</td>\n      <td>Yes</td>\n      <td>Yes</td>\n      <td>No</td>\n      <td>No</td>\n      <td>One year</td>\n      <td>No</td>\n      <td>Bank transfer (automatic)</td>\n      <td>42.30</td>\n      <td>1840.75</td>\n      <td>No</td>\n    </tr>\n    <tr>\n      <th>4</th>\n      <td>202006</td>\n      <td>45923787906</td>\n      <td>Female</td>\n      <td>0</td>\n      <td>No</td>\n      <td>No</td>\n      <td>2.0</td>\n      <td>Yes</td>\n      <td>No</td>\n      <td>Fiber optic</td>\n      <td>No</td>\n      <td>No</td>\n      <td>No</td>\n      <td>No</td>\n      <td>No</td>\n      <td>No</td>\n      <td>Month-to-month</td>\n      <td>Yes</td>\n      <td>Electronic check</td>\n      <td>70.70</td>\n      <td>151.65</td>\n      <td>Yes</td>\n    </tr>\n  </tbody>\n</table>\n</div>"
     },
     "metadata": {},
     "execution_count": 4
    }
   ],
   "source": [
    "df_load.head()"
   ]
  },
  {
   "source": [
    "jumlah ID yang unik"
   ],
   "cell_type": "markdown",
   "metadata": {}
  },
  {
   "cell_type": "code",
   "execution_count": 9,
   "metadata": {},
   "outputs": [
    {
     "output_type": "execute_result",
     "data": {
      "text/plain": [
       "7017"
      ]
     },
     "metadata": {},
     "execution_count": 9
    }
   ],
   "source": [
    "df_load['customerID'].nunique()"
   ]
  },
  {
   "source": [
    "# Mencari Validitas ID Number Pelanggan"
   ],
   "cell_type": "markdown",
   "metadata": {}
  },
  {
   "source": [
    "## Memfilter ID Number Pelanggan Format Tertentu\n",
    "Mencari format ID Number (Phone Number) Pelanggan customerID yang benar\n",
    "kriteria:\n",
    "- Panjang karakter adalah 11-12\n",
    "- Terdiri dari Angka Saja, tidak diperbolehkan ada karakter selain angka\n",
    "- Diawali dengan angka 45 2 digit pertama"
   ],
   "cell_type": "markdown",
   "metadata": {}
  },
  {
   "source": [
    "# astype() untuk merubah tipe datanya yang semula numeric\n",
    "# str.match() & regex untuk mencocokan dengan kriteria diatas\n",
    "df_load['valid_id'] = df_load['customerID'].astype(str).str.match(r'(45\\d{9,10})')\n",
    "df_load = (df_load[df_load['valid_id'] == True]).drop('valid_id', axis = 1)\n",
    "# count() untuk menghitung banyaknya rows Customer ID\n",
    "print('Hasil jumlah ID Customer yang terfilter adalah', df_load['customerID'].count())\t\t"
   ],
   "cell_type": "code",
   "metadata": {},
   "execution_count": 10,
   "outputs": [
    {
     "output_type": "stream",
     "name": "stdout",
     "text": [
      "Hasil jumlah ID Customer yang terfilter adalah 7006\n"
     ]
    }
   ]
  },
  {
   "source": [
    "## Memfiltemr Duplikasi ID Number Pelanggan\n",
    "tipe duplikasinya:\n",
    "- Duplikasi dikarenakan inserting melebihi satu kali dengan nilai yang sama tiap kolomnya\n",
    "- Duplikasi dikarenakan inserting beda periode pengambilan data"
   ],
   "cell_type": "markdown",
   "metadata": {}
  },
  {
   "cell_type": "code",
   "execution_count": 11,
   "metadata": {},
   "outputs": [
    {
     "output_type": "stream",
     "name": "stdout",
     "text": [
      "Hasil jumlah ID Customer yang sudah dihilangkan duplikasinya (distinct) adalah  6993\n"
     ]
    }
   ],
   "source": [
    "# Drop Duplicate Rows\n",
    "df_load.drop_duplicates()\n",
    "# Drop duplicate ID sorted by Periode\n",
    "df_load = df_load.sort_values('UpdatedAt', ascending=False).drop_duplicates(['customerID'])\n",
    "print('Hasil jumlah ID Customer yang sudah dihilangkan duplikasinya (distinct) adalah ', df_load['customerID'].count())\t\t"
   ]
  },
  {
   "source": [
    "# Mengatasi Missing Values"
   ],
   "cell_type": "markdown",
   "metadata": {}
  },
  {
   "source": [
    "## Mengatasi Missing Values dengan Penghapusan Rows\n",
    "menghapus Rows dari data-data yang tidak terdeteksi apakah dia churn atau tidak"
   ],
   "cell_type": "markdown",
   "metadata": {}
  },
  {
   "cell_type": "code",
   "execution_count": 12,
   "metadata": {},
   "outputs": [
    {
     "output_type": "stream",
     "name": "stdout",
     "text": [
      "Total missing values data dari kolom Churn 43\n",
      "Total Rows dan kolom Data setelah dihapus data Missing Values adalah (6950, 22)\n"
     ]
    }
   ],
   "source": [
    "# isnull() digunakan untuk mendeteksi missing values \n",
    "print('Total missing values data dari kolom Churn',df_load['Churn'].isnull().sum())\n",
    "# dropna() untuk menghapus data dari kolom Churn yang missing values\n",
    "df_load.dropna(subset=['Churn'],inplace=True)\n",
    "print('Total Rows dan kolom Data setelah dihapus data Missing Values adalah',df_load.shape)"
   ]
  },
  {
   "source": [
    "## Mengatasi Missing Values dengan Pengisian Nilai tertentu"
   ],
   "cell_type": "markdown",
   "metadata": {}
  },
  {
   "cell_type": "code",
   "execution_count": null,
   "metadata": {},
   "outputs": [],
   "source": []
  },
  {
   "source": [
    "# Mengatasi Outlier"
   ],
   "cell_type": "markdown",
   "metadata": {}
  },
  {
   "cell_type": "code",
   "execution_count": null,
   "metadata": {},
   "outputs": [],
   "source": []
  },
  {
   "source": [
    "# Menstandarisasi Nilai"
   ],
   "cell_type": "markdown",
   "metadata": {}
  },
  {
   "cell_type": "code",
   "execution_count": null,
   "metadata": {},
   "outputs": [],
   "source": []
  }
 ]
}